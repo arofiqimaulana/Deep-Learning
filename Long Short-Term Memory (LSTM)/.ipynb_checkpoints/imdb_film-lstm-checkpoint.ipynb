{
 "cells": [
  {
   "cell_type": "markdown",
   "id": "046e9d38-0350-44c0-ab04-9e08e410f372",
   "metadata": {},
   "source": [
    "# Description\n",
    "Goals : Melakukan prediksi terhadap suatu kalimat termasuk sentimen positive atau negative di suatu ulasan film.\n",
    "\n",
    "Kita bisa menggunakan Long Short-Term Memory (LSTM) untuk menangani kasus tersebut karena\n",
    "- Merupakan data berututan (teks ulasan film)\n",
    "- Menangani urutan data, dengan \"memori\" dari data yang telah diproses sebelumnya\n",
    "- Bisa menangani konteks kalimat secara keseluruhan.\n",
    "- Bisa menghadapi Variasi Panjang Kalimat\n",
    "- Cocok untuk tugas Klasifikasi Biner\n",
    "- Bisa Pemrosesan Urutan Berbeda\n",
    "\n",
    "Tahapan dari metode ini adalah\n",
    "\n",
    "- Data Preparation\n",
    "- Modeling\n",
    "- Evaluation\n",
    "- Prediction"
   ]
  },
  {
   "cell_type": "code",
   "execution_count": 2,
   "id": "b87b4dbd-7b49-4057-a1e2-3556fdc03ae6",
   "metadata": {},
   "outputs": [],
   "source": [
    "# import package\n",
    "import tensorflow as tf\n",
    "from tensorflow.keras.models import Sequential\n",
    "from tensorflow.keras.layers import LSTM, Dense, Embedding\n",
    "from tensorflow.keras.datasets import imdb\n",
    "from tensorflow.keras.preprocessing.sequence import pad_sequences\n",
    "from tensorflow.keras.optimizers import Adam\n",
    "import matplotlib.pyplot as plt\n",
    "from tensorflow import keras\n",
    "import numpy as np"
   ]
  },
  {
   "cell_type": "markdown",
   "id": "9ba24c4a-274a-4283-9158-387f98e8bbcf",
   "metadata": {},
   "source": [
    "# Data Preparation\n",
    "Data yang dipakai adalah 25,000 movies reviews dari IMDB, yang berlabe sentiment positive atau negative. Data ini data yang sudah disediakan oleh Tensorflow sendiri. Tahapan cleaning data \n",
    "\n",
    "- **Max_words** --> Membatasi jumlah kata --> Untuk mengurangi kompleksitas model dengan hanya mempertimbangkan kata-kata yang paling sering digunakan, yang akan mengurangi ukuran data dan mempercepat pelatihan.\n",
    "- **Max_length** --> mengatur panjang maksimum urutan kata dalam setiap teks input --> Untuk menstandarisasi panjang input agar dapat diproses dalam batch, karena model neural network memerlukan input dengan panjang tetap.\n",
    "- **Padding** --> berfungsi untuk memastikan bahwa semua input (urutan kata) yang dimasukkan ke dalam model memiliki panjang yang sama. "
   ]
  },
  {
   "cell_type": "code",
   "execution_count": 4,
   "id": "b44d17e3-bcfe-4e45-aa72-eb64f7d351ed",
   "metadata": {},
   "outputs": [],
   "source": [
    "# 1. Persiapkan Data\n",
    "# Muat dataset IMDB (ulasan film)\n",
    "max_words = 10000  # Batasi jumlah kata yang digunakan\n",
    "maxlen = 200       # Panjang maksimum setiap ulasan (200 kata)\n",
    "\n",
    "# Membagi data menjadi data latih dan data uji\n",
    "(x_train, y_train), (x_test, y_test) = imdb.load_data(num_words=max_words)\n",
    "\n",
    "# Padding data agar panjang input seragam\n",
    "x_train = pad_sequences(x_train, maxlen=maxlen)\n",
    "x_test = pad_sequences(x_test, maxlen=maxlen)"
   ]
  },
  {
   "cell_type": "markdown",
   "id": "0b33b4f7-5597-4562-862c-f91f16087821",
   "metadata": {},
   "source": [
    "# Modeling\n",
    "\n",
    "RNN cocok untuk analisis sentimen teks ini karena dapat menangani urutan data (kata-kata dalam kalimat) dan mempertahankan konteks serta hubungan antar kata dalam teks. Hal ini memungkinkan model untuk membuat prediksi sentimen yang lebih akurat dengan memahami makna keseluruhan teks, bukan hanya kata-kata individualnya. RNN bekerja dengan baik dalam menangani ketergantungan jangka panjang, yang sangat berguna dalam banyak tugas NLP, termasuk analisis sentimen.\n",
    "\n",
    "Model ini mengguanakan\n",
    "- Embedding Layer: Mewakili kata-kata sebagai vektor berdimensi 128.\n",
    "- SimpleRNN Layer: Lapisan RNN untuk memproses urutan data, menggunakan 128 unit dan fungsi aktivasi tanh.\n",
    "- Dropout Layer: Untuk mengurangi overfitting dengan menonaktifkan beberapa neuron secara acak selama pelatihan.\n",
    "- Dense Layer: Output layer dengan 1 unit dan fungsi aktivasi sigmoid untuk klasifikasi biner (positif/negatif).\n",
    "- Callback : EarlyStoppingAtMinLoss (memilih model dengan loss terendah)"
   ]
  },
  {
   "cell_type": "code",
   "execution_count": 6,
   "id": "6a79c0f4-c75c-4560-8fb7-35d283e5f0a3",
   "metadata": {},
   "outputs": [
    {
     "name": "stderr",
     "output_type": "stream",
     "text": [
      "/opt/anaconda3/lib/python3.12/site-packages/keras/src/layers/core/embedding.py:90: UserWarning: Argument `input_length` is deprecated. Just remove it.\n",
      "  warnings.warn(\n"
     ]
    }
   ],
   "source": [
    "# Bangun model LSTM\n",
    "model = Sequential()\n",
    "model.add(Embedding(input_dim=max_words, output_dim=128, input_length=maxlen))\n",
    "model.add(LSTM(128, activation='tanh', return_sequences=False))\n",
    "model.add(Dense(1, activation='sigmoid'))  # Output layer untuk klasifikasi biner (sentimen positif/negatif)"
   ]
  },
  {
   "cell_type": "code",
   "execution_count": 7,
   "id": "f3ab3533-5a35-47f2-9a63-fe73bc5c6a87",
   "metadata": {},
   "outputs": [],
   "source": [
    "# 3. Kompilasi Model\n",
    "model.compile(optimizer=Adam(), loss='binary_crossentropy', metrics=['accuracy'])"
   ]
  },
  {
   "cell_type": "code",
   "execution_count": 8,
   "id": "26bb601e-e441-4b8f-8e03-ef73b4e7188c",
   "metadata": {},
   "outputs": [],
   "source": [
    "class EarlyStoppingAtMinLoss(keras.callbacks.Callback):\n",
    "    \"\"\"Stop training when the loss is at its min, i.e. the loss stops decreasing.\n",
    "\n",
    "  Arguments:\n",
    "      patience: Number of epochs to wait after min has been hit. After this\n",
    "      number of no improvement, training stops.\n",
    "  \"\"\"\n",
    "\n",
    "    def __init__(self, patience=0):\n",
    "        super(EarlyStoppingAtMinLoss, self).__init__()\n",
    "        self.patience = patience\n",
    "        # best_weights to store the weights at which the minimum loss occurs.\n",
    "        self.best_weights = None\n",
    "\n",
    "    def on_train_begin(self, logs=None):\n",
    "        # The number of epoch it has waited when loss is no longer minimum.\n",
    "        self.wait = 0\n",
    "        # The epoch the training stops at.\n",
    "        self.stopped_epoch = 0\n",
    "        # Initialize the best as infinity.\n",
    "        self.best = np.Inf\n",
    "\n",
    "    def on_epoch_end(self, epoch, logs=None):\n",
    "        current = logs.get(\"loss\")\n",
    "        if np.less(current, self.best):\n",
    "            self.best = current\n",
    "            self.wait = 0\n",
    "            # Record the best weights if current results is better (less).\n",
    "            self.best_weights = self.model.get_weights()\n",
    "        else:\n",
    "            self.wait += 1\n",
    "            if self.wait >= self.patience:\n",
    "                self.stopped_epoch = epoch\n",
    "                self.model.stop_training = True\n",
    "                print(\"Restoring model weights from the end of the best epoch.\")\n",
    "                self.model.set_weights(self.best_weights)\n",
    "\n",
    "    def on_train_end(self, logs=None):\n",
    "        if self.stopped_epoch > 0:\n",
    "            print(\"Epoch %05d: early stopping\" % (self.stopped_epoch + 1))"
   ]
  },
  {
   "cell_type": "code",
   "execution_count": 9,
   "id": "ab59fdb2-fc30-4a79-971c-d92bf5df02cb",
   "metadata": {},
   "outputs": [
    {
     "name": "stdout",
     "output_type": "stream",
     "text": [
      "Epoch 1/5\n",
      "\u001b[1m391/391\u001b[0m \u001b[32m━━━━━━━━━━━━━━━━━━━━\u001b[0m\u001b[37m\u001b[0m \u001b[1m81s\u001b[0m 204ms/step - accuracy: 0.6885 - loss: 0.5707 - val_accuracy: 0.8651 - val_loss: 0.3283\n",
      "Epoch 2/5\n",
      "\u001b[1m391/391\u001b[0m \u001b[32m━━━━━━━━━━━━━━━━━━━━\u001b[0m\u001b[37m\u001b[0m \u001b[1m82s\u001b[0m 209ms/step - accuracy: 0.8931 - loss: 0.2715 - val_accuracy: 0.8656 - val_loss: 0.3246\n",
      "Epoch 3/5\n",
      "\u001b[1m391/391\u001b[0m \u001b[32m━━━━━━━━━━━━━━━━━━━━\u001b[0m\u001b[37m\u001b[0m \u001b[1m81s\u001b[0m 206ms/step - accuracy: 0.9292 - loss: 0.1924 - val_accuracy: 0.8620 - val_loss: 0.3478\n",
      "Epoch 4/5\n",
      "\u001b[1m391/391\u001b[0m \u001b[32m━━━━━━━━━━━━━━━━━━━━\u001b[0m\u001b[37m\u001b[0m \u001b[1m84s\u001b[0m 216ms/step - accuracy: 0.9514 - loss: 0.1385 - val_accuracy: 0.8364 - val_loss: 0.3923\n",
      "Epoch 5/5\n",
      "\u001b[1m391/391\u001b[0m \u001b[32m━━━━━━━━━━━━━━━━━━━━\u001b[0m\u001b[37m\u001b[0m \u001b[1m91s\u001b[0m 232ms/step - accuracy: 0.9580 - loss: 0.1138 - val_accuracy: 0.8642 - val_loss: 0.4339\n"
     ]
    }
   ],
   "source": [
    "## 4. Train the model \n",
    "history = model.fit(\n",
    "    x_train, \n",
    "    y_train, \n",
    "    epochs=5, \n",
    "    batch_size=64, \n",
    "    validation_data=(x_test, y_test), \n",
    "    verbose=1,\n",
    "    callbacks=[EarlyStoppingAtMinLoss()]\n",
    ")\n",
    "     "
   ]
  },
  {
   "cell_type": "code",
   "execution_count": 10,
   "id": "2519b7b3-1b44-4f39-b724-d7b735d3bda3",
   "metadata": {},
   "outputs": [
    {
     "data": {
      "text/html": [
       "<pre style=\"white-space:pre;overflow-x:auto;line-height:normal;font-family:Menlo,'DejaVu Sans Mono',consolas,'Courier New',monospace\"><span style=\"font-weight: bold\">Model: \"sequential\"</span>\n",
       "</pre>\n"
      ],
      "text/plain": [
       "\u001b[1mModel: \"sequential\"\u001b[0m\n"
      ]
     },
     "metadata": {},
     "output_type": "display_data"
    },
    {
     "data": {
      "text/html": [
       "<pre style=\"white-space:pre;overflow-x:auto;line-height:normal;font-family:Menlo,'DejaVu Sans Mono',consolas,'Courier New',monospace\">┏━━━━━━━━━━━━━━━━━━━━━━━━━━━━━━━━━┳━━━━━━━━━━━━━━━━━━━━━━━━┳━━━━━━━━━━━━━━━┓\n",
       "┃<span style=\"font-weight: bold\"> Layer (type)                    </span>┃<span style=\"font-weight: bold\"> Output Shape           </span>┃<span style=\"font-weight: bold\">       Param # </span>┃\n",
       "┡━━━━━━━━━━━━━━━━━━━━━━━━━━━━━━━━━╇━━━━━━━━━━━━━━━━━━━━━━━━╇━━━━━━━━━━━━━━━┩\n",
       "│ embedding (<span style=\"color: #0087ff; text-decoration-color: #0087ff\">Embedding</span>)           │ (<span style=\"color: #00d7ff; text-decoration-color: #00d7ff\">None</span>, <span style=\"color: #00af00; text-decoration-color: #00af00\">200</span>, <span style=\"color: #00af00; text-decoration-color: #00af00\">128</span>)       │     <span style=\"color: #00af00; text-decoration-color: #00af00\">1,280,000</span> │\n",
       "├─────────────────────────────────┼────────────────────────┼───────────────┤\n",
       "│ lstm (<span style=\"color: #0087ff; text-decoration-color: #0087ff\">LSTM</span>)                     │ (<span style=\"color: #00d7ff; text-decoration-color: #00d7ff\">None</span>, <span style=\"color: #00af00; text-decoration-color: #00af00\">128</span>)            │       <span style=\"color: #00af00; text-decoration-color: #00af00\">131,584</span> │\n",
       "├─────────────────────────────────┼────────────────────────┼───────────────┤\n",
       "│ dense (<span style=\"color: #0087ff; text-decoration-color: #0087ff\">Dense</span>)                   │ (<span style=\"color: #00d7ff; text-decoration-color: #00d7ff\">None</span>, <span style=\"color: #00af00; text-decoration-color: #00af00\">1</span>)              │           <span style=\"color: #00af00; text-decoration-color: #00af00\">129</span> │\n",
       "└─────────────────────────────────┴────────────────────────┴───────────────┘\n",
       "</pre>\n"
      ],
      "text/plain": [
       "┏━━━━━━━━━━━━━━━━━━━━━━━━━━━━━━━━━┳━━━━━━━━━━━━━━━━━━━━━━━━┳━━━━━━━━━━━━━━━┓\n",
       "┃\u001b[1m \u001b[0m\u001b[1mLayer (type)                   \u001b[0m\u001b[1m \u001b[0m┃\u001b[1m \u001b[0m\u001b[1mOutput Shape          \u001b[0m\u001b[1m \u001b[0m┃\u001b[1m \u001b[0m\u001b[1m      Param #\u001b[0m\u001b[1m \u001b[0m┃\n",
       "┡━━━━━━━━━━━━━━━━━━━━━━━━━━━━━━━━━╇━━━━━━━━━━━━━━━━━━━━━━━━╇━━━━━━━━━━━━━━━┩\n",
       "│ embedding (\u001b[38;5;33mEmbedding\u001b[0m)           │ (\u001b[38;5;45mNone\u001b[0m, \u001b[38;5;34m200\u001b[0m, \u001b[38;5;34m128\u001b[0m)       │     \u001b[38;5;34m1,280,000\u001b[0m │\n",
       "├─────────────────────────────────┼────────────────────────┼───────────────┤\n",
       "│ lstm (\u001b[38;5;33mLSTM\u001b[0m)                     │ (\u001b[38;5;45mNone\u001b[0m, \u001b[38;5;34m128\u001b[0m)            │       \u001b[38;5;34m131,584\u001b[0m │\n",
       "├─────────────────────────────────┼────────────────────────┼───────────────┤\n",
       "│ dense (\u001b[38;5;33mDense\u001b[0m)                   │ (\u001b[38;5;45mNone\u001b[0m, \u001b[38;5;34m1\u001b[0m)              │           \u001b[38;5;34m129\u001b[0m │\n",
       "└─────────────────────────────────┴────────────────────────┴───────────────┘\n"
      ]
     },
     "metadata": {},
     "output_type": "display_data"
    },
    {
     "data": {
      "text/html": [
       "<pre style=\"white-space:pre;overflow-x:auto;line-height:normal;font-family:Menlo,'DejaVu Sans Mono',consolas,'Courier New',monospace\"><span style=\"font-weight: bold\"> Total params: </span><span style=\"color: #00af00; text-decoration-color: #00af00\">4,235,141</span> (16.16 MB)\n",
       "</pre>\n"
      ],
      "text/plain": [
       "\u001b[1m Total params: \u001b[0m\u001b[38;5;34m4,235,141\u001b[0m (16.16 MB)\n"
      ]
     },
     "metadata": {},
     "output_type": "display_data"
    },
    {
     "data": {
      "text/html": [
       "<pre style=\"white-space:pre;overflow-x:auto;line-height:normal;font-family:Menlo,'DejaVu Sans Mono',consolas,'Courier New',monospace\"><span style=\"font-weight: bold\"> Trainable params: </span><span style=\"color: #00af00; text-decoration-color: #00af00\">1,411,713</span> (5.39 MB)\n",
       "</pre>\n"
      ],
      "text/plain": [
       "\u001b[1m Trainable params: \u001b[0m\u001b[38;5;34m1,411,713\u001b[0m (5.39 MB)\n"
      ]
     },
     "metadata": {},
     "output_type": "display_data"
    },
    {
     "data": {
      "text/html": [
       "<pre style=\"white-space:pre;overflow-x:auto;line-height:normal;font-family:Menlo,'DejaVu Sans Mono',consolas,'Courier New',monospace\"><span style=\"font-weight: bold\"> Non-trainable params: </span><span style=\"color: #00af00; text-decoration-color: #00af00\">0</span> (0.00 B)\n",
       "</pre>\n"
      ],
      "text/plain": [
       "\u001b[1m Non-trainable params: \u001b[0m\u001b[38;5;34m0\u001b[0m (0.00 B)\n"
      ]
     },
     "metadata": {},
     "output_type": "display_data"
    },
    {
     "data": {
      "text/html": [
       "<pre style=\"white-space:pre;overflow-x:auto;line-height:normal;font-family:Menlo,'DejaVu Sans Mono',consolas,'Courier New',monospace\"><span style=\"font-weight: bold\"> Optimizer params: </span><span style=\"color: #00af00; text-decoration-color: #00af00\">2,823,428</span> (10.77 MB)\n",
       "</pre>\n"
      ],
      "text/plain": [
       "\u001b[1m Optimizer params: \u001b[0m\u001b[38;5;34m2,823,428\u001b[0m (10.77 MB)\n"
      ]
     },
     "metadata": {},
     "output_type": "display_data"
    }
   ],
   "source": [
    "model.summary()"
   ]
  },
  {
   "cell_type": "markdown",
   "id": "0520d724-d807-439f-8c85-6593dba499cc",
   "metadata": {},
   "source": [
    "# Evaluation\n",
    "Evaluasi berfungsi untuk mengetahui performa model yang sudah dibentuk. Evaluasi yang digunakan adalah Akurasi, dan loss. Semakin tinggi akurasi maka model semakin bagus, semakin rendah loss maka model semakin bagus."
   ]
  },
  {
   "cell_type": "code",
   "execution_count": 12,
   "id": "c3c8c5ce-f942-42db-b7fe-67b25d4d2c4f",
   "metadata": {},
   "outputs": [
    {
     "data": {
      "text/plain": [
       "<matplotlib.legend.Legend at 0x16b3b6390>"
      ]
     },
     "execution_count": 12,
     "metadata": {},
     "output_type": "execute_result"
    },
    {
     "data": {
      "image/png": "[encoded data removed]",
      "text/plain": [
       "<Figure size 640x480 with 1 Axes>"
      ]
     },
     "metadata": {},
     "output_type": "display_data"
    }
   ],
   "source": [
    "plt.title('Accuracy for Data Training vs Data Testing')\n",
    "plt.plot(history.history['accuracy'], label = 'Train')\n",
    "plt.plot(history.history['val_accuracy'], label = 'Test')\n",
    "plt.xlabel('Epoch')\n",
    "plt.ylabel('Accuracy')\n",
    "plt.ylim(0.5,1)\n",
    "plt.legend(loc='lower right')"
   ]
  },
  {
   "cell_type": "code",
   "execution_count": 13,
   "id": "7c47198b-0e71-4fea-bce6-1a612999b9de",
   "metadata": {},
   "outputs": [
    {
     "data": {
      "text/plain": [
       "<matplotlib.legend.Legend at 0x175eb8d40>"
      ]
     },
     "execution_count": 13,
     "metadata": {},
     "output_type": "execute_result"
    },
    {
     "data": {
      "image/png": "[encoded data removed]",
      "text/plain": [
       "<Figure size 640x480 with 1 Axes>"
      ]
     },
     "metadata": {},
     "output_type": "display_data"
    }
   ],
   "source": [
    "plt.title('Accuracy vs Loss for Data Testing')\n",
    "plt.plot(history.history['val_accuracy'], label = 'val_accuracy')\n",
    "plt.plot(history.history['val_loss'], label = 'val_loss')\n",
    "plt.xlabel('Epoch')\n",
    "plt.ylabel('Accuracy vs Loss')\n",
    "plt.legend(loc='lower right')"
   ]
  },
  {
   "cell_type": "markdown",
   "id": "bfc87b96-11f9-4155-b83e-81af855edb87",
   "metadata": {},
   "source": [
    "Plot pertama menunjukkan bahwa akurasi data untuk data train dan data test semakin tinggi dan akurasinya lebih dari 80%. Pada plot kedua, nilai akurasi dan nilai loss berbanding terbalik. Jadi, berdasarkan kedua plot diatas dapat dikatakan bahwa tidak terdapat overfiting dan model layak digunakan untuk prediksi."
   ]
  },
  {
   "cell_type": "markdown",
   "id": "27e525b1-84af-4953-a940-710d8b07a425",
   "metadata": {},
   "source": [
    "# Prediction\n",
    "\n",
    "Kita perlu melakukan re-format data yang akan kita prediksi sentimennya menjadi format yang sama saat kita melatih data tersebut"
   ]
  },
  {
   "cell_type": "code",
   "execution_count": 16,
   "id": "88ec0998-ade5-4a9e-a50c-5c28e0d1640d",
   "metadata": {},
   "outputs": [
    {
     "name": "stdout",
     "output_type": "stream",
     "text": [
      "\u001b[1m1/1\u001b[0m \u001b[32m━━━━━━━━━━━━━━━━━━━━\u001b[0m\u001b[37m\u001b[0m \u001b[1m0s\u001b[0m 81ms/step\n",
      "Prediksi Sentimen: Positif\n"
     ]
    }
   ],
   "source": [
    "# 6. Prediksi Sentimen untuk Review Baru\n",
    "sample_review = \"I love this movie! It was fantastic and really enjoyable.\"\n",
    "\n",
    "# Tokenisasi review menjadi urutan kata-kata\n",
    "sample_review = sample_review.lower().split()  # Mengubah teks menjadi daftar kata dan membuat semuanya kecil (lowercase)\n",
    "\n",
    "# Mengonversi kata ke indeks menggunakan word_index\n",
    "sample_review = [imdb.get_word_index().get(word, 0) for word in sample_review]  # Ganti kata dengan indeksnya, jika tidak ada, pakai 0\n",
    "\n",
    "# Padding review agar panjangnya sama dengan input model\n",
    "sample_review = pad_sequences([sample_review], maxlen=maxlen)\n",
    "\n",
    "# Prediksi\n",
    "prediction = model.predict(sample_review)\n",
    "print(f\"Prediksi Sentimen: {'Positif' if prediction[0] > 0.5 else 'Negatif'}\")\n"
   ]
  },
  {
   "cell_type": "markdown",
   "id": "1411c5ba-d934-4125-9d15-f2afccff49e3",
   "metadata": {},
   "source": [
    "# Reference\n",
    "- https://www.tensorflow.org/api_docs/python/tf/keras/datasets/imdb/load_data "
   ]
  },
  {
   "cell_type": "code",
   "execution_count": null,
   "id": "3b208307-c0f0-4f4e-b25d-4f9058382b1f",
   "metadata": {},
   "outputs": [],
   "source": []
  }
 ],
 "metadata": {
  "kernelspec": {
   "display_name": "Python [conda env:base] *",
   "language": "python",
   "name": "conda-base-py"
  },
  "language_info": {
   "codemirror_mode": {
    "name": "ipython",
    "version": 3
   },
   "file_extension": ".py",
   "mimetype": "text/x-python",
   "name": "python",
   "nbconvert_exporter": "python",
   "pygments_lexer": "ipython3",
   "version": "3.12.7"
  }
 },
 "nbformat": 4,
 "nbformat_minor": 5
}
